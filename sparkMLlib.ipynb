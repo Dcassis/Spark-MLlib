{
 "cells": [
  {
   "cell_type": "code",
   "execution_count": 184,
   "metadata": {},
   "outputs": [],
   "source": [
    "from pyspark.sql import SparkSession\n",
    "\n",
    "spark = SparkSession \\\n",
    "    .builder \\\n",
    "    .appName(\"DeteccaoAnomalias\") \\\n",
    "    .getOrCreate()"
   ]
  },
  {
   "cell_type": "code",
   "execution_count": 185,
   "metadata": {},
   "outputs": [],
   "source": [
    "diretorioDataset='./temperaturas_vancouver_2023.csv'"
   ]
  },
  {
   "cell_type": "code",
   "execution_count": 186,
   "metadata": {},
   "outputs": [],
   "source": [
    "data = spark.read.format(\"csv\").options(header=\"true\", inferschema=\"true\").load(diretorioDataset)"
   ]
  },
  {
   "cell_type": "code",
   "execution_count": 187,
   "metadata": {},
   "outputs": [
    {
     "name": "stdout",
     "output_type": "stream",
     "text": [
      "+----------+-----------------------+-----------------------+\n",
      "|Data      |Temperatura Mínima (°C)|Temperatura Máxima (°C)|\n",
      "+----------+-----------------------+-----------------------+\n",
      "|2023-01-01|13.82026172983832      |24.624902571329436     |\n",
      "|2023-01-02|7.0007860418361165     |16.047518573929118     |\n",
      "|2023-01-03|9.893689920528697      |17.919442350361443     |\n",
      "|2023-01-04|15.0                   |23.661332315530167     |\n",
      "|2023-01-05|14.337789950749837     |18.697733293399804     |\n",
      "+----------+-----------------------+-----------------------+\n",
      "only showing top 5 rows\n",
      "\n"
     ]
    }
   ],
   "source": [
    "data.show(5, False)"
   ]
  },
  {
   "cell_type": "code",
   "execution_count": 188,
   "metadata": {},
   "outputs": [
    {
     "data": {
      "text/plain": [
       "['Data', 'Temperatura Mínima (°C)', 'Temperatura Máxima (°C)']"
      ]
     },
     "execution_count": 188,
     "metadata": {},
     "output_type": "execute_result"
    }
   ],
   "source": [
    "data.columns"
   ]
  },
  {
   "cell_type": "code",
   "execution_count": 189,
   "metadata": {},
   "outputs": [
    {
     "name": "stdout",
     "output_type": "stream",
     "text": [
      "root\n",
      " |-- Data: date (nullable = true)\n",
      " |-- Temperatura Mínima (°C): double (nullable = true)\n",
      " |-- Temperatura Máxima (°C): double (nullable = true)\n",
      "\n"
     ]
    }
   ],
   "source": [
    "data.printSchema()"
   ]
  },
  {
   "cell_type": "code",
   "execution_count": 190,
   "metadata": {},
   "outputs": [
    {
     "data": {
      "text/plain": [
       "365"
      ]
     },
     "execution_count": 190,
     "metadata": {},
     "output_type": "execute_result"
    }
   ],
   "source": [
    "data.count()"
   ]
  },
  {
   "cell_type": "code",
   "execution_count": 191,
   "metadata": {},
   "outputs": [],
   "source": [
    "dataAnalise=data.select('data','Temperatura Mínima (°C)', 'Temperatura Máxima (°C)')"
   ]
  },
  {
   "cell_type": "code",
   "execution_count": 192,
   "metadata": {},
   "outputs": [
    {
     "name": "stdout",
     "output_type": "stream",
     "text": [
      "+----------+-----------------------+-----------------------+\n",
      "|      data|Temperatura Mínima (°C)|Temperatura Máxima (°C)|\n",
      "+----------+-----------------------+-----------------------+\n",
      "|2023-01-01|      13.82026172983832|     24.624902571329436|\n",
      "|2023-01-02|     7.0007860418361165|     16.047518573929118|\n",
      "|2023-01-03|      9.893689920528697|     17.919442350361443|\n",
      "|2023-01-04|                   15.0|     23.661332315530167|\n",
      "|2023-01-05|     14.337789950749837|     18.697733293399804|\n",
      "+----------+-----------------------+-----------------------+\n",
      "only showing top 5 rows\n",
      "\n"
     ]
    }
   ],
   "source": [
    "dataAnalise.show(5)"
   ]
  },
  {
   "cell_type": "code",
   "execution_count": 193,
   "metadata": {},
   "outputs": [],
   "source": [
    "from pyspark.sql.functions import col\n",
    "dataNotNull = dataAnalise.filter(col('Temperatura Mínima (°C)').isNotNull())"
   ]
  },
  {
   "cell_type": "code",
   "execution_count": 194,
   "metadata": {},
   "outputs": [
    {
     "name": "stdout",
     "output_type": "stream",
     "text": [
      "+----------+-----------------------+-----------------------+\n",
      "|      data|Temperatura Mínima (°C)|Temperatura Máxima (°C)|\n",
      "+----------+-----------------------+-----------------------+\n",
      "|2023-01-01|      13.82026172983832|     24.624902571329436|\n",
      "|2023-01-02|     7.0007860418361165|     16.047518573929118|\n",
      "|2023-01-03|      9.893689920528697|     17.919442350361443|\n",
      "|2023-01-04|                   15.0|     23.661332315530167|\n",
      "|2023-01-05|     14.337789950749837|     18.697733293399804|\n",
      "+----------+-----------------------+-----------------------+\n",
      "only showing top 5 rows\n",
      "\n"
     ]
    }
   ],
   "source": [
    "dataNotNull.show(5)"
   ]
  },
  {
   "cell_type": "code",
   "execution_count": 195,
   "metadata": {},
   "outputs": [],
   "source": [
    "import numpy as np\n",
    "from pyspark.sql.functions import mean, stddev"
   ]
  },
  {
   "cell_type": "code",
   "execution_count": 196,
   "metadata": {},
   "outputs": [],
   "source": [
    "list_stats = dataNotNull.select(mean(col('Temperatura Mínima (°C)')).alias('media'), stddev(col('Temperatura Mínima (°C)')).alias('desvioPadrao')).collect()"
   ]
  },
  {
   "cell_type": "code",
   "execution_count": 197,
   "metadata": {},
   "outputs": [
    {
     "name": "stdout",
     "output_type": "stream",
     "text": [
      "Média:  4.910982056932428\n",
      "Desvio Padrão:  4.893435847120293\n"
     ]
    }
   ],
   "source": [
    "media = list_stats[0]['media']\n",
    "desvio = list_stats[0]['desvioPadrao']\n",
    "print(\"Média: \", media)\n",
    "print(\"Desvio Padrão: \", desvio)"
   ]
  },
  {
   "cell_type": "code",
   "execution_count": 198,
   "metadata": {},
   "outputs": [
    {
     "name": "stdout",
     "output_type": "stream",
     "text": [
      "+-----------------+-----------------+\n",
      "|            media|     desvioPadrao|\n",
      "+-----------------+-----------------+\n",
      "|4.910982056932428|4.893435847120293|\n",
      "+-----------------+-----------------+\n",
      "\n"
     ]
    }
   ],
   "source": [
    "df_stats = dataNotNull.select(mean(col('Temperatura Mínima (°C)')).alias('media'),stddev(col('Temperatura Mínima (°C)')).alias('desvioPadrao'))\n",
    "df_stats.show()"
   ]
  },
  {
   "cell_type": "code",
   "execution_count": 199,
   "metadata": {},
   "outputs": [
    {
     "name": "stdout",
     "output_type": "stream",
     "text": [
      "+-------+-----------------------+-----------------------+\n",
      "|summary|Temperatura Mínima (°C)|Temperatura Máxima (°C)|\n",
      "+-------+-----------------------+-----------------------+\n",
      "|  count|                    365|                    365|\n",
      "|   mean|      4.910982056932428|     14.420516972928725|\n",
      "| stddev|      4.893435847120293|      6.821402858562853|\n",
      "|    min|     -8.862963782133251|                    0.0|\n",
      "|    max|                   15.0|                   35.0|\n",
      "+-------+-----------------------+-----------------------+\n",
      "\n"
     ]
    }
   ],
   "source": [
    "dataNotNull.describe().show()"
   ]
  },
  {
   "cell_type": "code",
   "execution_count": 200,
   "metadata": {},
   "outputs": [],
   "source": [
    "def distancia(x):\n",
    "    media=56.0376399999\n",
    "    desvio=26.30936160850151\n",
    "    return ((x - media)/desvio)"
   ]
  },
  {
   "cell_type": "code",
   "execution_count": 201,
   "metadata": {},
   "outputs": [],
   "source": [
    "def anomalias(x):\n",
    "    desvio=26.30936160850151\n",
    "    if (x>2):\n",
    "        return 1\n",
    "    else:\n",
    "        return 0"
   ]
  },
  {
   "cell_type": "code",
   "execution_count": 202,
   "metadata": {},
   "outputs": [],
   "source": [
    "from pyspark.sql.types import DoubleType, IntegerType\n",
    "from pyspark.sql.functions import udf\n",
    "\n",
    "distancia_udf_double =udf(lambda z: distancia(z), DoubleType())\n",
    "anomalia_udf_int = udf(lambda z: anomalias(z), IntegerType()) "
   ]
  },
  {
   "cell_type": "code",
   "execution_count": 203,
   "metadata": {},
   "outputs": [
    {
     "name": "stdout",
     "output_type": "stream",
     "text": [
      "+-----------------------+-------------------+\n",
      "|Temperatura Mínima (°C)|          distancia|\n",
      "+-----------------------+-------------------+\n",
      "|      13.82026172983832|-1.6046523248370919|\n",
      "|     7.0007860418361165|-1.8638557137098415|\n",
      "|      9.893689920528697|-1.7538985082960172|\n",
      "|                   15.0|-1.5598113177569177|\n",
      "|     14.337789950749837|-1.5849814476560855|\n",
      "|    0.11361060061794515|-2.1256323217364184|\n",
      "|      9.750442087627947|-1.7593432558741744|\n",
      "|      4.243213958511511|-1.9686690544650778|\n",
      "|      4.483905741032211| -1.959520532121498|\n",
      "|      7.052992509691862|-1.8618713832409912|\n",
      "|       5.72021785580439|-1.9125291937086082|\n",
      "|     12.271367534814875| -1.663524684344399|\n",
      "|      8.805188625734967|-1.7952716632585457|\n",
      "|      5.608375082464142|-1.9167802574555943|\n",
      "|      7.219316163727129|-1.8555495402213749|\n",
      "|      6.668371636871334|-1.8764905472687585|\n",
      "|      12.47039536578803|-1.6559597789721288|\n",
      "|     3.9742086811709956|-1.9788937524772712|\n",
      "|      6.565338508254507|-1.8804067627265877|\n",
      "|     0.7295213034913761| -2.102221996847562|\n",
      "+-----------------------+-------------------+\n",
      "only showing top 20 rows\n",
      "\n"
     ]
    }
   ],
   "source": [
    "data_new = dataNotNull.select('Temperatura Mínima (°C)', distancia_udf_double('Temperatura Mínima (°C)').alias('distancia'))\n",
    "data_new.show()"
   ]
  },
  {
   "cell_type": "code",
   "execution_count": 204,
   "metadata": {},
   "outputs": [
    {
     "name": "stdout",
     "output_type": "stream",
     "text": [
      "+-----------------------+-------------------+------------------+\n",
      "|Temperatura Mínima (°C)|          distancia|      distanciaABS|\n",
      "+-----------------------+-------------------+------------------+\n",
      "|      13.82026172983832|-1.6046523248370919|1.6046523248370919|\n",
      "|     7.0007860418361165|-1.8638557137098415|1.8638557137098415|\n",
      "|      9.893689920528697|-1.7538985082960172|1.7538985082960172|\n",
      "|                   15.0|-1.5598113177569177|1.5598113177569177|\n",
      "|     14.337789950749837|-1.5849814476560855|1.5849814476560855|\n",
      "|    0.11361060061794515|-2.1256323217364184|2.1256323217364184|\n",
      "|      9.750442087627947|-1.7593432558741744|1.7593432558741744|\n",
      "|      4.243213958511511|-1.9686690544650778|1.9686690544650778|\n",
      "|      4.483905741032211| -1.959520532121498| 1.959520532121498|\n",
      "|      7.052992509691862|-1.8618713832409912|1.8618713832409912|\n",
      "|       5.72021785580439|-1.9125291937086082|1.9125291937086082|\n",
      "|     12.271367534814875| -1.663524684344399| 1.663524684344399|\n",
      "|      8.805188625734967|-1.7952716632585457|1.7952716632585457|\n",
      "|      5.608375082464142|-1.9167802574555943|1.9167802574555943|\n",
      "|      7.219316163727129|-1.8555495402213749|1.8555495402213749|\n",
      "|      6.668371636871334|-1.8764905472687585|1.8764905472687585|\n",
      "|      12.47039536578803|-1.6559597789721288|1.6559597789721288|\n",
      "|     3.9742086811709956|-1.9788937524772712|1.9788937524772712|\n",
      "|      6.565338508254507|-1.8804067627265877|1.8804067627265877|\n",
      "|     0.7295213034913761| -2.102221996847562| 2.102221996847562|\n",
      "+-----------------------+-------------------+------------------+\n",
      "only showing top 20 rows\n",
      "\n"
     ]
    }
   ],
   "source": [
    "from pyspark.sql.functions import abs\n",
    "data_new=data_new.select('Temperatura Mínima (°C)', 'distancia', abs(col('distancia')).alias('distanciaABS'))\n",
    "data_new.show()"
   ]
  },
  {
   "cell_type": "code",
   "execution_count": 205,
   "metadata": {},
   "outputs": [
    {
     "name": "stdout",
     "output_type": "stream",
     "text": [
      "+-----------------------+-------------------+------------------+---------+\n",
      "|Temperatura Mínima (°C)|          distancia|      distanciaABS|isAnomaly|\n",
      "+-----------------------+-------------------+------------------+---------+\n",
      "|      13.82026172983832|-1.6046523248370919|1.6046523248370919|        0|\n",
      "|     7.0007860418361165|-1.8638557137098415|1.8638557137098415|        0|\n",
      "|      9.893689920528697|-1.7538985082960172|1.7538985082960172|        0|\n",
      "|                   15.0|-1.5598113177569177|1.5598113177569177|        0|\n",
      "|     14.337789950749837|-1.5849814476560855|1.5849814476560855|        0|\n",
      "|    0.11361060061794515|-2.1256323217364184|2.1256323217364184|        1|\n",
      "|      9.750442087627947|-1.7593432558741744|1.7593432558741744|        0|\n",
      "|      4.243213958511511|-1.9686690544650778|1.9686690544650778|        0|\n",
      "|      4.483905741032211| -1.959520532121498| 1.959520532121498|        0|\n",
      "|      7.052992509691862|-1.8618713832409912|1.8618713832409912|        0|\n",
      "|       5.72021785580439|-1.9125291937086082|1.9125291937086082|        0|\n",
      "|     12.271367534814875| -1.663524684344399| 1.663524684344399|        0|\n",
      "|      8.805188625734967|-1.7952716632585457|1.7952716632585457|        0|\n",
      "|      5.608375082464142|-1.9167802574555943|1.9167802574555943|        0|\n",
      "|      7.219316163727129|-1.8555495402213749|1.8555495402213749|        0|\n",
      "|      6.668371636871334|-1.8764905472687585|1.8764905472687585|        0|\n",
      "|      12.47039536578803|-1.6559597789721288|1.6559597789721288|        0|\n",
      "|     3.9742086811709956|-1.9788937524772712|1.9788937524772712|        0|\n",
      "|      6.565338508254507|-1.8804067627265877|1.8804067627265877|        0|\n",
      "|     0.7295213034913761| -2.102221996847562| 2.102221996847562|        1|\n",
      "+-----------------------+-------------------+------------------+---------+\n",
      "only showing top 20 rows\n",
      "\n"
     ]
    }
   ],
   "source": [
    "data_new=data_new.select('Temperatura Mínima (°C)', 'distancia', 'distanciaABS', anomalia_udf_int('distanciaABS').alias('isAnomaly'))\n",
    "data_new.show()"
   ]
  },
  {
   "cell_type": "code",
   "execution_count": 206,
   "metadata": {},
   "outputs": [
    {
     "name": "stdout",
     "output_type": "stream",
     "text": [
      "+-----------------------+-------------------+------------------+---------+\n",
      "|Temperatura Mínima (°C)|          distancia|      distanciaABS|isAnomaly|\n",
      "+-----------------------+-------------------+------------------+---------+\n",
      "|    0.11361060061794515|-2.1256323217364184|2.1256323217364184|        1|\n",
      "|     0.7295213034913761| -2.102221996847562| 2.102221996847562|        1|\n",
      "|     -7.764949079170393|-2.4250907349440762|2.4250907349440762|        1|\n",
      "|     1.2891748979677904| -2.080949964374696| 2.080949964374696|        1|\n",
      "|    -2.2718283729938236|-2.2163011493996843|2.2163011493996843|        1|\n",
      "|     0.5610712618494365|-2.1086246623378377|2.1086246623378377|        1|\n",
      "|     -4.903982341119635|-2.3163474373824102|2.3163474373824102|        1|\n",
      "|      3.260439253369237|-2.0060236174440864|2.0060236174440864|        1|\n",
      "|     3.0633659129602386| -2.013514234029223| 2.013514234029223|        1|\n",
      "|   -0.24276482533546329| -2.139177896549539| 2.139177896549539|        1|\n",
      "|    -2.1000896858948757|-2.2097734848499124|2.2097734848499124|        1|\n",
      "|     -3.531350953125063|-2.2641747009846167|2.2641747009846167|        1|\n",
      "|     2.4517390912417323|-2.0367617316621898|2.0367617316621898|        1|\n",
      "|      2.809628491944068| -2.023158611752709| 2.023158611752709|        1|\n",
      "|    -1.2639768002496314|  -2.17799343263553|  2.17799343263553|        1|\n",
      "|    -3.0694892377897567| -2.246619667829192| 2.246619667829192|        1|\n",
      "|     0.5226671940316221|-2.1100843734623145|2.1100843734623145|        1|\n",
      "|     2.4459743121556348| -2.036980846788276| 2.036980846788276|        1|\n",
      "|     -0.903160920612061|-2.1642790793567723|2.1642790793567723|        1|\n",
      "|     1.8283895315951821|-2.0604548021715523|2.0604548021715523|        1|\n",
      "+-----------------------+-------------------+------------------+---------+\n",
      "only showing top 20 rows\n",
      "\n"
     ]
    }
   ],
   "source": [
    "data_new.filter(col('isAnomaly')>0).show()"
   ]
  },
  {
   "cell_type": "code",
   "execution_count": 207,
   "metadata": {},
   "outputs": [
    {
     "name": "stdout",
     "output_type": "stream",
     "text": [
      "         Data  Temperatura Mínima (°C)  Temperatura Máxima (°C)\n",
      "0  2023-01-01                13.820262                24.624903\n",
      "1  2023-01-02                 7.000786                16.047519\n",
      "2  2023-01-03                 9.893690                17.919442\n",
      "3  2023-01-04                15.000000                23.661332\n",
      "4  2023-01-05                14.337790                18.697733\n"
     ]
    },
    {
     "data": {
      "image/png": "[encoded data removed]",
      "text/plain": [
       "<Figure size 1000x600 with 1 Axes>"
      ]
     },
     "metadata": {},
     "output_type": "display_data"
    }
   ],
   "source": [
    "import pandas as pd\n",
    "import matplotlib.pyplot as plt\n",
    "\n",
    "# Carregar o arquivo CSV\n",
    "file_path = './temperaturas_vancouver_2023.csv'\n",
    "df = pd.read_csv(file_path)\n",
    "\n",
    "# Exibir as primeiras linhas do DataFrame para garantir que os dados foram carregados corretamente\n",
    "print(df.head())\n",
    "\n",
    "plt.figure(figsize=(10, 6))\n",
    "plt.hist(df['Temperatura Mínima (°C)'], bins=20, edgecolor='black')\n",
    "plt.title('Histograma das Temperaturas Mínimas em Vancouver (2023)')\n",
    "plt.xlabel('Temperatura Mínima (°C)')\n",
    "plt.ylabel('Frequência')\n",
    "plt.grid(True)\n",
    "plt.show()"
   ]
  },
  {
   "cell_type": "code",
   "execution_count": 208,
   "metadata": {},
   "outputs": [
    {
     "data": {
      "text/plain": [
       "DataFrame[Temperatura Mínima (°C): double]"
      ]
     },
     "metadata": {},
     "output_type": "display_data"
    }
   ],
   "source": [
    "display(dataNotNull.select('Temperatura Mínima (°C)'))"
   ]
  },
  {
   "cell_type": "code",
   "execution_count": 209,
   "metadata": {},
   "outputs": [
    {
     "data": {
      "image/png": "[encoded data removed]",
      "text/plain": [
       "<Figure size 1000x600 with 1 Axes>"
      ]
     },
     "metadata": {},
     "output_type": "display_data"
    }
   ],
   "source": [
    "plt.figure(figsize=(10, 6))\n",
    "plt.scatter(df['Temperatura Mínima (°C)'], df['Temperatura Máxima (°C)'], alpha=0.5, edgecolors='w', linewidth=0.5)\n",
    "plt.title('Gráfico de Dispersão das Temperaturas Mínimas e Máximas em Vancouver (2023)')\n",
    "plt.xlabel('Temperatura Mínima (°C)')\n",
    "plt.ylabel('Temperatura Máxima (°C)')\n",
    "plt.grid(True)\n",
    "plt.show()"
   ]
  },
  {
   "cell_type": "code",
   "execution_count": 210,
   "metadata": {},
   "outputs": [
    {
     "name": "stdout",
     "output_type": "stream",
     "text": [
      "Média:  [4.58082192]\n",
      "Variância:  [21.94193888]\n",
      "Valores não nulos:  [328.]\n"
     ]
    }
   ],
   "source": [
    "from pyspark.mllib.stat import Statistics\n",
    "coluna=dataNotNull.select('Temperatura Mínima (°C)')\n",
    "coluna1=coluna.rdd.map(lambda x: [int (x[0])])\n",
    "estatistica=Statistics.colStats(coluna1)\n",
    "print(\"Média: \", estatistica.mean())\n",
    "print(\"Variância: \", estatistica.variance())\n",
    "print(\"Valores não nulos: \", estatistica.numNonzeros())"
   ]
  },
  {
   "cell_type": "markdown",
   "metadata": {},
   "source": [
    "////////////WORLD-CITIES//////////////"
   ]
  },
  {
   "cell_type": "code",
   "execution_count": 211,
   "metadata": {},
   "outputs": [],
   "source": [
    "diretorioDataset=\"./worldcities.csv\""
   ]
  },
  {
   "cell_type": "code",
   "execution_count": 212,
   "metadata": {},
   "outputs": [],
   "source": [
    "cities_df = spark.read.format(\"csv\").options(header=\"true\", inferschema=\"true\").load(diretorioDataset)"
   ]
  },
  {
   "cell_type": "code",
   "execution_count": 213,
   "metadata": {},
   "outputs": [
    {
     "name": "stdout",
     "output_type": "stream",
     "text": [
      "root\n",
      " |-- city: string (nullable = true)\n",
      " |-- city_ascii: string (nullable = true)\n",
      " |-- lat: double (nullable = true)\n",
      " |-- lng: double (nullable = true)\n",
      " |-- country: string (nullable = true)\n",
      " |-- iso2: string (nullable = true)\n",
      " |-- iso3: string (nullable = true)\n",
      " |-- admin_name: string (nullable = true)\n",
      " |-- capital: string (nullable = true)\n",
      " |-- population: double (nullable = true)\n",
      " |-- id: integer (nullable = true)\n",
      "\n"
     ]
    }
   ],
   "source": [
    "cities_df.printSchema()"
   ]
  },
  {
   "cell_type": "code",
   "execution_count": 214,
   "metadata": {},
   "outputs": [
    {
     "name": "stdout",
     "output_type": "stream",
     "text": [
      "+------------+------------+--------+--------+-------------+----+----+--------------------+-------+-----------+----------+\n",
      "|        city|  city_ascii|     lat|     lng|      country|iso2|iso3|          admin_name|capital| population|        id|\n",
      "+------------+------------+--------+--------+-------------+----+----+--------------------+-------+-----------+----------+\n",
      "|       Tokyo|       Tokyo| 35.6897|139.6922|        Japan|  JP| JPN|               Tōkyō|primary|   3.7732E7|1392685764|\n",
      "|     Jakarta|     Jakarta|  -6.175|106.8275|    Indonesia|  ID| IDN|             Jakarta|primary|   3.3756E7|1360771077|\n",
      "|       Delhi|       Delhi|   28.61|   77.23|        India|  IN| IND|               Delhi|  admin|   3.2226E7|1356872604|\n",
      "|   Guangzhou|   Guangzhou|   23.13|  113.26|        China|  CN| CHN|           Guangdong|  admin|    2.694E7|1156237133|\n",
      "|      Mumbai|      Mumbai| 19.0761| 72.8775|        India|  IN| IND|         Mahārāshtra|  admin|   2.4973E7|1356226629|\n",
      "|      Manila|      Manila| 14.5958|120.9772|  Philippines|  PH| PHL|              Manila|primary|   2.4922E7|1608618140|\n",
      "|    Shanghai|    Shanghai| 31.2286|121.4747|        China|  CN| CHN|            Shanghai|  admin|   2.4073E7|1156073548|\n",
      "|   São Paulo|   Sao Paulo|  -23.55|-46.6333|       Brazil|  BR| BRA|           São Paulo|  admin|   2.3086E7|1076532519|\n",
      "|       Seoul|       Seoul|   37.56|  126.99| Korea, South|  KR| KOR|               Seoul|primary|   2.3016E7|1410836482|\n",
      "| Mexico City| Mexico City| 19.4333|-99.1333|       Mexico|  MX| MEX|    Ciudad de México|primary|   2.1804E7|1484247881|\n",
      "|       Cairo|       Cairo| 30.0444| 31.2358|        Egypt|  EG| EGY|          Al Qāhirah|primary|   2.0296E7|1818253931|\n",
      "|    New York|    New York| 40.6943|-73.9249|United States|  US| USA|            New York|   NULL|1.8908608E7|1840034016|\n",
      "|       Dhaka|       Dhaka| 23.7639| 90.3889|   Bangladesh|  BD| BGD|               Dhaka|primary|   1.8627E7|1050529279|\n",
      "|     Beijing|     Beijing| 39.9067|116.3975|        China|  CN| CHN|             Beijing|primary|   1.8522E7|1156228865|\n",
      "|     Kolkāta|     Kolkata| 22.5675|   88.37|        India|  IN| IND|         West Bengal|  admin|   1.8502E7|1356060520|\n",
      "|     Bangkok|     Bangkok| 13.7525|100.4942|     Thailand|  TH| THA|Krung Thep Maha N...|primary|   1.8007E7|1764068610|\n",
      "|    Shenzhen|    Shenzhen| 22.5415|114.0596|        China|  CN| CHN|           Guangdong|  minor|   1.7619E7|1156158707|\n",
      "|      Moscow|      Moscow| 55.7558| 37.6172|       Russia|  RU| RUS|              Moskva|primary|   1.7332E7|1643318494|\n",
      "|Buenos Aires|Buenos Aires|-34.6033|-58.3817|    Argentina|  AR| ARG|Buenos Aires, Ciu...|primary|    1.671E7|1032717330|\n",
      "|       Lagos|       Lagos|   6.455|  3.3841|      Nigeria|  NG| NGA|               Lagos|  minor|   1.6637E7|1566593751|\n",
      "+------------+------------+--------+--------+-------------+----+----+--------------------+-------+-----------+----------+\n",
      "only showing top 20 rows\n",
      "\n"
     ]
    }
   ],
   "source": [
    "cities_df.show()"
   ]
  },
  {
   "cell_type": "code",
   "execution_count": 215,
   "metadata": {},
   "outputs": [
    {
     "name": "stdout",
     "output_type": "stream",
     "text": [
      "+--------------+--------------+--------+--------+-------+----+----+----------------+-------+----------+----------+\n",
      "|          city|    city_ascii|     lat|     lng|country|iso2|iso3|      admin_name|capital|population|        id|\n",
      "+--------------+--------------+--------+--------+-------+----+----+----------------+-------+----------+----------+\n",
      "|     São Paulo|     Sao Paulo|  -23.55|-46.6333| Brazil|  BR| BRA|       São Paulo|  admin|  2.3086E7|1076532519|\n",
      "|Rio de Janeiro|Rio de Janeiro|-22.9111|-43.2056| Brazil|  BR| BRA|  Rio de Janeiro|  admin|  1.2592E7|1076887657|\n",
      "|Belo Horizonte|Belo Horizonte|-19.9167|-43.9333| Brazil|  BR| BRA|    Minas Gerais|  admin| 5328000.0|1076967355|\n",
      "|     Fortaleza|     Fortaleza| -3.7275|-38.5275| Brazil|  BR| BRA|           Ceará|  admin| 4167996.0|1076567885|\n",
      "|      Brasília|      Brasilia|-15.7939|-47.8828| Brazil|  BR| BRA|Distrito Federal|primary| 2817068.0|1076144436|\n",
      "|      Salvador|      Salvador|-12.9747|-38.4767| Brazil|  BR| BRA|           Bahia|  admin| 2418005.0|1076923789|\n",
      "|        Manaus|        Manaus| -3.1189|-60.0217| Brazil|  BR| BRA|        Amazonas|  admin| 2063547.0|1076607274|\n",
      "|        Santos|        Santos|-23.9369| -46.325| Brazil|  BR| BRA|       São Paulo|   NULL| 1897551.0|1076033299|\n",
      "|      Curitiba|      Curitiba|-25.4297|-49.2711| Brazil|  BR| BRA|          Paraná|  admin| 1773733.0|1076701712|\n",
      "|        Recife|        Recife|   -8.05|   -34.9| Brazil|  BR| BRA|      Pernambuco|  admin| 1488920.0|1076137337|\n",
      "+--------------+--------------+--------+--------+-------+----+----+----------------+-------+----------+----------+\n",
      "only showing top 10 rows\n",
      "\n"
     ]
    }
   ],
   "source": [
    "cities_BR = cities_df.where(col(\"country\")==\"Brazil\")\n",
    "cities_BR.show(10)"
   ]
  },
  {
   "cell_type": "code",
   "execution_count": 216,
   "metadata": {},
   "outputs": [
    {
     "name": "stdout",
     "output_type": "stream",
     "text": [
      "+------------------+------------------+-------+---------+-------+----+----+----------------+-------+----------+----------+\n",
      "|              city|        city_ascii|    lat|      lng|country|iso2|iso3|      admin_name|capital|population|        id|\n",
      "+------------------+------------------+-------+---------+-------+----+----+----------------+-------+----------+----------+\n",
      "|       Mexico City|       Mexico City|19.4333| -99.1333| Mexico|  MX| MEX|Ciudad de México|primary|  2.1804E7|1484247881|\n",
      "|       Guadalajara|       Guadalajara|20.6767|-103.3475| Mexico|  MX| MEX|         Jalisco|  admin| 5525000.0|1484950208|\n",
      "|         Monterrey|         Monterrey|25.6667|   -100.3| Mexico|  MX| MEX|      Nuevo León|  admin| 5341171.0|1484559591|\n",
      "|           Tijuana|           Tijuana| 32.525|-117.0333| Mexico|  MX| MEX| Baja California|  minor| 2002000.0|1484708778|\n",
      "|          Ecatepec|          Ecatepec|19.6097|   -99.06| Mexico|  MX| MEX|          México|  minor| 1929926.0|1484003694|\n",
      "|León de los Aldama|Leon de los Aldama|21.1167|-101.6833| Mexico|  MX| MEX|      Guanajuato|  minor| 1579803.0|1484811199|\n",
      "|            Puebla|            Puebla|19.0333| -98.1833| Mexico|  MX| MEX|          Puebla|  admin| 1576259.0|1484416394|\n",
      "|           Zapopan|           Zapopan|20.7167|   -103.4| Mexico|  MX| MEX|         Jalisco|  minor| 1476491.0|1484198680|\n",
      "|            Juárez|            Juarez| 31.745| -106.485| Mexico|  MX| MEX|       Chihuahua|  minor| 1321004.0|1484840083|\n",
      "|          Mexicali|          Mexicali|32.6633|-115.4678| Mexico|  MX| MEX| Baja California|  admin| 1102342.0|1484788702|\n",
      "+------------------+------------------+-------+---------+-------+----+----+----------------+-------+----------+----------+\n",
      "only showing top 10 rows\n",
      "\n"
     ]
    }
   ],
   "source": [
    "cities_MX = cities_df.where(col(\"country\")==\"Mexico\")\n",
    "cities_MX.show(10)"
   ]
  },
  {
   "cell_type": "code",
   "execution_count": 217,
   "metadata": {},
   "outputs": [
    {
     "name": "stdout",
     "output_type": "stream",
     "text": [
      "+-----------+-----------+-------+---------+-------------+----+----+----------+-------+-----------+----------+\n",
      "|       city| city_ascii|    lat|      lng|      country|iso2|iso3|admin_name|capital| population|        id|\n",
      "+-----------+-----------+-------+---------+-------------+----+----+----------+-------+-----------+----------+\n",
      "|   New York|   New York|40.6943| -73.9249|United States|  US| USA|  New York|   NULL|1.8908608E7|1840034016|\n",
      "|Los Angeles|Los Angeles|34.1141|-118.4068|United States|  US| USA|California|   NULL|1.1922389E7|1840020491|\n",
      "|    Chicago|    Chicago|41.8375| -87.6866|United States|  US| USA|  Illinois|   NULL|  8497759.0|1840000494|\n",
      "|      Miami|      Miami| 25.784| -80.2101|United States|  US| USA|   Florida|   NULL|  6080145.0|1840015149|\n",
      "|    Houston|    Houston| 29.786| -95.3885|United States|  US| USA|     Texas|   NULL|  5970127.0|1840020925|\n",
      "+-----------+-----------+-------+---------+-------------+----+----+----------+-------+-----------+----------+\n",
      "only showing top 5 rows\n",
      "\n"
     ]
    }
   ],
   "source": [
    "cities_USA = cities_df.where(col(\"country\")==\"United States\")\n",
    "cities_USA.show(5)"
   ]
  },
  {
   "cell_type": "code",
   "execution_count": 218,
   "metadata": {},
   "outputs": [
    {
     "name": "stdout",
     "output_type": "stream",
     "text": [
      "+--------+----------+-------+--------+-------+----+----+----------+-------+----------+----------+\n",
      "|    city|city_ascii|    lat|     lng|country|iso2|iso3|admin_name|capital|population|        id|\n",
      "+--------+----------+-------+--------+-------+----+----+----------+-------+----------+----------+\n",
      "|   Tokyo|     Tokyo|35.6897|139.6922|  Japan|  JP| JPN|     Tōkyō|primary|  3.7732E7|1392685764|\n",
      "|   Ōsaka|     Osaka|34.6939|135.5022|  Japan|  JP| JPN|     Ōsaka|  admin|  1.5126E7|1392419823|\n",
      "|  Nagoya|    Nagoya|35.1833|   136.9|  Japan|  JP| JPN|     Aichi|  admin| 9197000.0|1392407472|\n",
      "|Yokohama|  Yokohama|35.4442|139.6381|  Japan|  JP| JPN|  Kanagawa|  admin| 3757630.0|1392118339|\n",
      "| Fukuoka|   Fukuoka|  33.59|130.4017|  Japan|  JP| JPN|   Fukuoka|  admin| 2286000.0|1392576294|\n",
      "+--------+----------+-------+--------+-------+----+----+----------+-------+----------+----------+\n",
      "only showing top 5 rows\n",
      "\n"
     ]
    }
   ],
   "source": [
    "cities_JP = cities_df.where(col(\"country\")==\"Japan\")\n",
    "cities_JP.show(5)"
   ]
  },
  {
   "cell_type": "code",
   "execution_count": 219,
   "metadata": {},
   "outputs": [
    {
     "name": "stdout",
     "output_type": "stream",
     "text": [
      "+--------------+--------------+--------+--------+-------+----+----+----------------+-------+----------+----------+\n",
      "|          city|    city_ascii|     lat|     lng|country|iso2|iso3|      admin_name|capital|population|        id|\n",
      "+--------------+--------------+--------+--------+-------+----+----+----------------+-------+----------+----------+\n",
      "|     São Paulo|     Sao Paulo|  -23.55|-46.6333| Brazil|  BR| BRA|       São Paulo|  admin|  2.3086E7|1076532519|\n",
      "|Rio de Janeiro|Rio de Janeiro|-22.9111|-43.2056| Brazil|  BR| BRA|  Rio de Janeiro|  admin|  1.2592E7|1076887657|\n",
      "|Belo Horizonte|Belo Horizonte|-19.9167|-43.9333| Brazil|  BR| BRA|    Minas Gerais|  admin| 5328000.0|1076967355|\n",
      "|     Fortaleza|     Fortaleza| -3.7275|-38.5275| Brazil|  BR| BRA|           Ceará|  admin| 4167996.0|1076567885|\n",
      "|      Brasília|      Brasilia|-15.7939|-47.8828| Brazil|  BR| BRA|Distrito Federal|primary| 2817068.0|1076144436|\n",
      "+--------------+--------------+--------+--------+-------+----+----+----------------+-------+----------+----------+\n",
      "only showing top 5 rows\n",
      "\n"
     ]
    }
   ],
   "source": [
    "df_concat = cities_BR.union(cities_MX)\n",
    "df_concat.show(5)"
   ]
  },
  {
   "cell_type": "code",
   "execution_count": 220,
   "metadata": {},
   "outputs": [
    {
     "name": "stdout",
     "output_type": "stream",
     "text": [
      "+-------+-----+\n",
      "|country|count|\n",
      "+-------+-----+\n",
      "| Brazil| 2937|\n",
      "| Mexico|  983|\n",
      "+-------+-----+\n",
      "\n"
     ]
    }
   ],
   "source": [
    "df_concat.groupBy(\"country\").count().show()"
   ]
  },
  {
   "cell_type": "code",
   "execution_count": 221,
   "metadata": {},
   "outputs": [
    {
     "name": "stdout",
     "output_type": "stream",
     "text": [
      "+-----+----------+-------+--------+-------+----+----+----------+-------+----------+----------+\n",
      "| city|city_ascii|    lat|     lng|country|iso2|iso3|admin_name|capital|population|        id|\n",
      "+-----+----------+-------+--------+-------+----+----+----------+-------+----------+----------+\n",
      "|Tokyo|     Tokyo|35.6897|139.6922|  Japan|  JP| JPN|     Tōkyō|primary|  3.7732E7|1392685764|\n",
      "|Ōsaka|     Osaka|34.6939|135.5022|  Japan|  JP| JPN|     Ōsaka|  admin|  1.5126E7|1392419823|\n",
      "+-----+----------+-------+--------+-------+----+----+----------+-------+----------+----------+\n",
      "\n"
     ]
    }
   ],
   "source": [
    "cities_JP = cities_df.where((col(\"city\")==\"Tokyo\") | (col(\"city\")==\"Ōsaka\"))\n",
    "cities_JP.show()"
   ]
  },
  {
   "cell_type": "code",
   "execution_count": 222,
   "metadata": {},
   "outputs": [
    {
     "name": "stdout",
     "output_type": "stream",
     "text": [
      "+--------------+--------------+--------+--------+-------+----+----+------------------+-------+----------+----------+\n",
      "|          city|    city_ascii|     lat|     lng|country|iso2|iso3|        admin_name|capital|population|        id|\n",
      "+--------------+--------------+--------+--------+-------+----+----+------------------+-------+----------+----------+\n",
      "|     São Paulo|     Sao Paulo|  -23.55|-46.6333| Brazil|  BR| BRA|         São Paulo|  admin|  2.3086E7|1076532519|\n",
      "|Rio de Janeiro|Rio de Janeiro|-22.9111|-43.2056| Brazil|  BR| BRA|    Rio de Janeiro|  admin|  1.2592E7|1076887657|\n",
      "|Belo Horizonte|Belo Horizonte|-19.9167|-43.9333| Brazil|  BR| BRA|      Minas Gerais|  admin| 5328000.0|1076967355|\n",
      "|     Fortaleza|     Fortaleza| -3.7275|-38.5275| Brazil|  BR| BRA|             Ceará|  admin| 4167996.0|1076567885|\n",
      "|      Brasília|      Brasilia|-15.7939|-47.8828| Brazil|  BR| BRA|  Distrito Federal|primary| 2817068.0|1076144436|\n",
      "|      Salvador|      Salvador|-12.9747|-38.4767| Brazil|  BR| BRA|             Bahia|  admin| 2418005.0|1076923789|\n",
      "|        Manaus|        Manaus| -3.1189|-60.0217| Brazil|  BR| BRA|          Amazonas|  admin| 2063547.0|1076607274|\n",
      "|        Santos|        Santos|-23.9369| -46.325| Brazil|  BR| BRA|         São Paulo|   NULL| 1897551.0|1076033299|\n",
      "|      Curitiba|      Curitiba|-25.4297|-49.2711| Brazil|  BR| BRA|            Paraná|  admin| 1773733.0|1076701712|\n",
      "|        Recife|        Recife|   -8.05|   -34.9| Brazil|  BR| BRA|        Pernambuco|  admin| 1488920.0|1076137337|\n",
      "|       Goiânia|       Goiania|-16.6667|  -49.25| Brazil|  BR| BRA|             Goiás|  admin| 1437237.0|1076034054|\n",
      "|  Porto Alegre|  Porto Alegre|-30.0331|  -51.23| Brazil|  BR| BRA| Rio Grande do Sul|  admin| 1332570.0|1076658221|\n",
      "|     Guarulhos|     Guarulhos|-23.4628|-46.5328| Brazil|  BR| BRA|         São Paulo|   NULL| 1324781.0|1076730420|\n",
      "|         Belém|         Belem| -1.4558|-48.5039| Brazil|  BR| BRA|              Pará|  admin| 1303389.0|1076646823|\n",
      "|      Campinas|      Campinas|-22.9058|-47.0608| Brazil|  BR| BRA|         São Paulo|   NULL| 1213792.0|1076145766|\n",
      "|      São Luís|      Sao Luis| -2.5283|-44.3044| Brazil|  BR| BRA|          Maranhão|  admin| 1037775.0|1076819308|\n",
      "|         Natal|         Natal| -6.9838|-60.2699| Brazil|  BR| BRA|          Amazonas|   NULL|  980588.0|1076336975|\n",
      "|        Maceió|        Maceio| -9.6658| -35.735| Brazil|  BR| BRA|           Alagoas|  admin|  957916.0|1076440479|\n",
      "|      Teresina|      Teresina| -5.0949|-42.8042| Brazil|  BR| BRA|             Piauí|  admin|  953172.0|1076727667|\n",
      "|  Campo Grande|  Campo Grande|-20.4839| -54.615| Brazil|  BR| BRA|Mato Grosso do Sul|  admin|  897938.0|1076660445|\n",
      "+--------------+--------------+--------+--------+-------+----+----+------------------+-------+----------+----------+\n",
      "only showing top 20 rows\n",
      "\n"
     ]
    }
   ],
   "source": [
    "df_final = df_concat.union(cities_JP)\n",
    "df_final.show()"
   ]
  },
  {
   "cell_type": "code",
   "execution_count": 223,
   "metadata": {},
   "outputs": [],
   "source": [
    "from pyspark.ml.evaluation import ClusteringEvaluator\n",
    "from pyspark.ml.clustering import KMeans\n",
    "from pyspark.ml.linalg import Vectors\n",
    "from pyspark.ml.feature import VectorAssembler\n",
    "\n"
   ]
  },
  {
   "cell_type": "code",
   "execution_count": 224,
   "metadata": {},
   "outputs": [
    {
     "name": "stdout",
     "output_type": "stream",
     "text": [
      "+--------------+--------------+--------+--------+-------+----+----+------------------+-------+----------+----------+-------------------+\n",
      "|          city|    city_ascii|     lat|     lng|country|iso2|iso3|        admin_name|capital|population|        id|           features|\n",
      "+--------------+--------------+--------+--------+-------+----+----+------------------+-------+----------+----------+-------------------+\n",
      "|     São Paulo|     Sao Paulo|  -23.55|-46.6333| Brazil|  BR| BRA|         São Paulo|  admin|  2.3086E7|1076532519|  [-23.55,-46.6333]|\n",
      "|Rio de Janeiro|Rio de Janeiro|-22.9111|-43.2056| Brazil|  BR| BRA|    Rio de Janeiro|  admin|  1.2592E7|1076887657|[-22.9111,-43.2056]|\n",
      "|Belo Horizonte|Belo Horizonte|-19.9167|-43.9333| Brazil|  BR| BRA|      Minas Gerais|  admin| 5328000.0|1076967355|[-19.9167,-43.9333]|\n",
      "|     Fortaleza|     Fortaleza| -3.7275|-38.5275| Brazil|  BR| BRA|             Ceará|  admin| 4167996.0|1076567885| [-3.7275,-38.5275]|\n",
      "|      Brasília|      Brasilia|-15.7939|-47.8828| Brazil|  BR| BRA|  Distrito Federal|primary| 2817068.0|1076144436|[-15.7939,-47.8828]|\n",
      "|      Salvador|      Salvador|-12.9747|-38.4767| Brazil|  BR| BRA|             Bahia|  admin| 2418005.0|1076923789|[-12.9747,-38.4767]|\n",
      "|        Manaus|        Manaus| -3.1189|-60.0217| Brazil|  BR| BRA|          Amazonas|  admin| 2063547.0|1076607274| [-3.1189,-60.0217]|\n",
      "|        Santos|        Santos|-23.9369| -46.325| Brazil|  BR| BRA|         São Paulo|   NULL| 1897551.0|1076033299| [-23.9369,-46.325]|\n",
      "|      Curitiba|      Curitiba|-25.4297|-49.2711| Brazil|  BR| BRA|            Paraná|  admin| 1773733.0|1076701712|[-25.4297,-49.2711]|\n",
      "|        Recife|        Recife|   -8.05|   -34.9| Brazil|  BR| BRA|        Pernambuco|  admin| 1488920.0|1076137337|      [-8.05,-34.9]|\n",
      "|       Goiânia|       Goiania|-16.6667|  -49.25| Brazil|  BR| BRA|             Goiás|  admin| 1437237.0|1076034054|  [-16.6667,-49.25]|\n",
      "|  Porto Alegre|  Porto Alegre|-30.0331|  -51.23| Brazil|  BR| BRA| Rio Grande do Sul|  admin| 1332570.0|1076658221|  [-30.0331,-51.23]|\n",
      "|     Guarulhos|     Guarulhos|-23.4628|-46.5328| Brazil|  BR| BRA|         São Paulo|   NULL| 1324781.0|1076730420|[-23.4628,-46.5328]|\n",
      "|         Belém|         Belem| -1.4558|-48.5039| Brazil|  BR| BRA|              Pará|  admin| 1303389.0|1076646823| [-1.4558,-48.5039]|\n",
      "|      Campinas|      Campinas|-22.9058|-47.0608| Brazil|  BR| BRA|         São Paulo|   NULL| 1213792.0|1076145766|[-22.9058,-47.0608]|\n",
      "|      São Luís|      Sao Luis| -2.5283|-44.3044| Brazil|  BR| BRA|          Maranhão|  admin| 1037775.0|1076819308| [-2.5283,-44.3044]|\n",
      "|         Natal|         Natal| -6.9838|-60.2699| Brazil|  BR| BRA|          Amazonas|   NULL|  980588.0|1076336975| [-6.9838,-60.2699]|\n",
      "|        Maceió|        Maceio| -9.6658| -35.735| Brazil|  BR| BRA|           Alagoas|  admin|  957916.0|1076440479|  [-9.6658,-35.735]|\n",
      "|      Teresina|      Teresina| -5.0949|-42.8042| Brazil|  BR| BRA|             Piauí|  admin|  953172.0|1076727667| [-5.0949,-42.8042]|\n",
      "|  Campo Grande|  Campo Grande|-20.4839| -54.615| Brazil|  BR| BRA|Mato Grosso do Sul|  admin|  897938.0|1076660445| [-20.4839,-54.615]|\n",
      "+--------------+--------------+--------+--------+-------+----+----+------------------+-------+----------+----------+-------------------+\n",
      "only showing top 20 rows\n",
      "\n"
     ]
    }
   ],
   "source": [
    "from pyspark.ml.feature import VectorAssembler\n",
    "\n",
    "VectorAssembler = VectorAssembler(inputCols=[\"lat\", \"lng\"], outputCol=\"features\")\n",
    "new_df = VectorAssembler.transform(df_final)\n",
    "new_df.show()"
   ]
  },
  {
   "cell_type": "code",
   "execution_count": 225,
   "metadata": {},
   "outputs": [],
   "source": [
    "KMeans = KMeans(k=3, seed=1)\n",
    "model = KMeans.fit(new_df.select('features'))"
   ]
  },
  {
   "cell_type": "code",
   "execution_count": 226,
   "metadata": {},
   "outputs": [
    {
     "name": "stdout",
     "output_type": "stream",
     "text": [
      "+--------------+--------------+--------+--------+-------+----+----+------------------+-------+----------+----------+-------------------+----------+\n",
      "|          city|    city_ascii|     lat|     lng|country|iso2|iso3|        admin_name|capital|population|        id|           features|prediction|\n",
      "+--------------+--------------+--------+--------+-------+----+----+------------------+-------+----------+----------+-------------------+----------+\n",
      "|     São Paulo|     Sao Paulo|  -23.55|-46.6333| Brazil|  BR| BRA|         São Paulo|  admin|  2.3086E7|1076532519|  [-23.55,-46.6333]|         0|\n",
      "|Rio de Janeiro|Rio de Janeiro|-22.9111|-43.2056| Brazil|  BR| BRA|    Rio de Janeiro|  admin|  1.2592E7|1076887657|[-22.9111,-43.2056]|         0|\n",
      "|Belo Horizonte|Belo Horizonte|-19.9167|-43.9333| Brazil|  BR| BRA|      Minas Gerais|  admin| 5328000.0|1076967355|[-19.9167,-43.9333]|         0|\n",
      "|     Fortaleza|     Fortaleza| -3.7275|-38.5275| Brazil|  BR| BRA|             Ceará|  admin| 4167996.0|1076567885| [-3.7275,-38.5275]|         2|\n",
      "|      Brasília|      Brasilia|-15.7939|-47.8828| Brazil|  BR| BRA|  Distrito Federal|primary| 2817068.0|1076144436|[-15.7939,-47.8828]|         0|\n",
      "|      Salvador|      Salvador|-12.9747|-38.4767| Brazil|  BR| BRA|             Bahia|  admin| 2418005.0|1076923789|[-12.9747,-38.4767]|         2|\n",
      "|        Manaus|        Manaus| -3.1189|-60.0217| Brazil|  BR| BRA|          Amazonas|  admin| 2063547.0|1076607274| [-3.1189,-60.0217]|         2|\n",
      "|        Santos|        Santos|-23.9369| -46.325| Brazil|  BR| BRA|         São Paulo|   NULL| 1897551.0|1076033299| [-23.9369,-46.325]|         0|\n",
      "|      Curitiba|      Curitiba|-25.4297|-49.2711| Brazil|  BR| BRA|            Paraná|  admin| 1773733.0|1076701712|[-25.4297,-49.2711]|         0|\n",
      "|        Recife|        Recife|   -8.05|   -34.9| Brazil|  BR| BRA|        Pernambuco|  admin| 1488920.0|1076137337|      [-8.05,-34.9]|         2|\n",
      "|       Goiânia|       Goiania|-16.6667|  -49.25| Brazil|  BR| BRA|             Goiás|  admin| 1437237.0|1076034054|  [-16.6667,-49.25]|         0|\n",
      "|  Porto Alegre|  Porto Alegre|-30.0331|  -51.23| Brazil|  BR| BRA| Rio Grande do Sul|  admin| 1332570.0|1076658221|  [-30.0331,-51.23]|         0|\n",
      "|     Guarulhos|     Guarulhos|-23.4628|-46.5328| Brazil|  BR| BRA|         São Paulo|   NULL| 1324781.0|1076730420|[-23.4628,-46.5328]|         0|\n",
      "|         Belém|         Belem| -1.4558|-48.5039| Brazil|  BR| BRA|              Pará|  admin| 1303389.0|1076646823| [-1.4558,-48.5039]|         2|\n",
      "|      Campinas|      Campinas|-22.9058|-47.0608| Brazil|  BR| BRA|         São Paulo|   NULL| 1213792.0|1076145766|[-22.9058,-47.0608]|         0|\n",
      "|      São Luís|      Sao Luis| -2.5283|-44.3044| Brazil|  BR| BRA|          Maranhão|  admin| 1037775.0|1076819308| [-2.5283,-44.3044]|         2|\n",
      "|         Natal|         Natal| -6.9838|-60.2699| Brazil|  BR| BRA|          Amazonas|   NULL|  980588.0|1076336975| [-6.9838,-60.2699]|         0|\n",
      "|        Maceió|        Maceio| -9.6658| -35.735| Brazil|  BR| BRA|           Alagoas|  admin|  957916.0|1076440479|  [-9.6658,-35.735]|         2|\n",
      "|      Teresina|      Teresina| -5.0949|-42.8042| Brazil|  BR| BRA|             Piauí|  admin|  953172.0|1076727667| [-5.0949,-42.8042]|         2|\n",
      "|  Campo Grande|  Campo Grande|-20.4839| -54.615| Brazil|  BR| BRA|Mato Grosso do Sul|  admin|  897938.0|1076660445| [-20.4839,-54.615]|         0|\n",
      "+--------------+--------------+--------+--------+-------+----+----+------------------+-------+----------+----------+-------------------+----------+\n",
      "only showing top 20 rows\n",
      "\n"
     ]
    }
   ],
   "source": [
    "df_final = model.transform(new_df)\n",
    "df_final.show()"
   ]
  },
  {
   "cell_type": "code",
   "execution_count": 227,
   "metadata": {},
   "outputs": [
    {
     "name": "stdout",
     "output_type": "stream",
     "text": [
      "+----------+-----+\n",
      "|prediction|count|\n",
      "+----------+-----+\n",
      "|         2| 1355|\n",
      "|         0| 1584|\n",
      "|         1|  983|\n",
      "+----------+-----+\n",
      "\n"
     ]
    }
   ],
   "source": [
    "df_final.groupBy('prediction').count().show()"
   ]
  },
  {
   "cell_type": "code",
   "execution_count": 228,
   "metadata": {},
   "outputs": [
    {
     "name": "stdout",
     "output_type": "stream",
     "text": [
      "+--------------+--------------+--------+--------+-------+----+----+----------------+-------+----------+----------+-------------------+----------+\n",
      "|          city|    city_ascii|     lat|     lng|country|iso2|iso3|      admin_name|capital|population|        id|           features|prediction|\n",
      "+--------------+--------------+--------+--------+-------+----+----+----------------+-------+----------+----------+-------------------+----------+\n",
      "|     São Paulo|     Sao Paulo|  -23.55|-46.6333| Brazil|  BR| BRA|       São Paulo|  admin|  2.3086E7|1076532519|  [-23.55,-46.6333]|         0|\n",
      "|Rio de Janeiro|Rio de Janeiro|-22.9111|-43.2056| Brazil|  BR| BRA|  Rio de Janeiro|  admin|  1.2592E7|1076887657|[-22.9111,-43.2056]|         0|\n",
      "|Belo Horizonte|Belo Horizonte|-19.9167|-43.9333| Brazil|  BR| BRA|    Minas Gerais|  admin| 5328000.0|1076967355|[-19.9167,-43.9333]|         0|\n",
      "|      Brasília|      Brasilia|-15.7939|-47.8828| Brazil|  BR| BRA|Distrito Federal|primary| 2817068.0|1076144436|[-15.7939,-47.8828]|         0|\n",
      "|        Santos|        Santos|-23.9369| -46.325| Brazil|  BR| BRA|       São Paulo|   NULL| 1897551.0|1076033299| [-23.9369,-46.325]|         0|\n",
      "+--------------+--------------+--------+--------+-------+----+----+----------------+-------+----------+----------+-------------------+----------+\n",
      "only showing top 5 rows\n",
      "\n"
     ]
    }
   ],
   "source": [
    "df_final.where(col(\"prediction\")=='0').show(5)"
   ]
  }
 ],
 "metadata": {
  "kernelspec": {
   "display_name": "Python 3",
   "language": "python",
   "name": "python3"
  },
  "language_info": {
   "codemirror_mode": {
    "name": "ipython",
    "version": 3
   },
   "file_extension": ".py",
   "mimetype": "text/x-python",
   "name": "python",
   "nbconvert_exporter": "python",
   "pygments_lexer": "ipython3",
   "version": "3.12.3"
  }
 },
 "nbformat": 4,
 "nbformat_minor": 2
}
